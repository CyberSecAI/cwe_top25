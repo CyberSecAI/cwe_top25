{
 "cells": [
  {
   "cell_type": "code",
   "execution_count": 1,
   "metadata": {},
   "outputs": [
    {
     "name": "stderr",
     "output_type": "stream",
     "text": [
      "/Users/cmadden01/work/vulnerability_scoring/vulnerability_scoring/lib/python3.10/site-packages/tqdm/auto.py:22: TqdmWarning: IProgress not found. Please update jupyter and ipywidgets. See https://ipywidgets.readthedocs.io/en/stable/user_install.html\n",
      "  from .autonotebook import tqdm as notebook_tqdm\n",
      "Summarize dataset: 100%|██████████| 12/12 [00:00<00:00, 12.48it/s, Completed]                \n",
      "Generate report structure: 100%|██████████| 1/1 [00:00<00:00,  5.56it/s]\n",
      "Render HTML: 100%|██████████| 1/1 [00:00<00:00,  7.36it/s]\n",
      "Export report to file: 100%|██████████| 1/1 [00:00<00:00, 1160.25it/s]\n"
     ]
    }
   ],
   "source": [
    "import pandas as pd\n",
    "from ydata_profiling import ProfileReport\n",
    "df = pd.read_csv(\"./data_in/top25-mitre-mapping-analysis-2023-public.csv\")\n",
    "\n",
    "# EDA\n",
    "report = ProfileReport(df)\n",
    "report.to_file(\"./reports/top25-mitre-mapping-analysis-2023-public.html\")"
   ]
  }
 ],
 "metadata": {
  "kernelspec": {
   "display_name": "vulnerability_scoring",
   "language": "python",
   "name": "vulnerability_scoring"
  },
  "language_info": {
   "codemirror_mode": {
    "name": "ipython",
    "version": 3
   },
   "file_extension": ".py",
   "mimetype": "text/x-python",
   "name": "python",
   "nbconvert_exporter": "python",
   "pygments_lexer": "ipython3",
   "version": "3.10.10 (main, Feb 16 2023, 02:49:39) [Clang 14.0.0 (clang-1400.0.29.202)]"
  },
  "orig_nbformat": 4
 },
 "nbformat": 4,
 "nbformat_minor": 2
}
