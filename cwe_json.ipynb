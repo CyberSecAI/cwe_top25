{
 "cells": [
  {
   "cell_type": "markdown",
   "metadata": {},
   "source": [
    "# Overview\n",
    "1. Add CVE Descriptions to Top 25 removing newlines, tabs,... and escaping as required"
   ]
  },
  {
   "cell_type": "code",
   "execution_count": 1,
   "metadata": {},
   "outputs": [],
   "source": [
    "from IPython.core.magic import register_cell_magic\n",
    "from IPython.display import Markdown\n",
    "import datetime\n",
    "from datetime import date\n",
    "import glob\n",
    "import json\n",
    "import jsonlines\n",
    "import logging\n",
    "import matplotlib.pyplot as plt\n",
    "import numpy as np\n",
    "import pandas as pd\n",
    "import plotly\n",
    "import warnings\n",
    "import csv\n",
    "\n",
    "\n"
   ]
  },
  {
   "cell_type": "code",
   "execution_count": 3,
   "metadata": {},
   "outputs": [
    {
     "name": "stdout",
     "output_type": "stream",
     "text": [
      "The following keys have been removed: ContentHistory, Views, Categories, References, TaxonomyMappings. The result has been saved to cwe_trimmed.json\n"
     ]
    }
   ],
   "source": [
    "def remove_keys(data, keys_to_remove):\n",
    "    if isinstance(data, dict):\n",
    "        for key in keys_to_remove:\n",
    "            data.pop(key, None)\n",
    "        for value in data.values():\n",
    "            remove_keys(value, keys_to_remove)\n",
    "    elif isinstance(data, list):\n",
    "        for item in data:\n",
    "            remove_keys(item, keys_to_remove)\n",
    "\n",
    "# Read the JSON data from the file\n",
    "with open('./data_in/cwe.json', 'r') as file:\n",
    "    json_data = json.load(file)\n",
    "\n",
    "# Remove specified keys\n",
    "#'RelatedAttackPatterns'\n",
    "keys_to_remove = ['ContentHistory', 'Views', 'Categories', 'References', 'TaxonomyMappings']\n",
    "remove_keys(json_data, keys_to_remove)\n",
    "\n",
    "# Write the modified data back to a file\n",
    "with open('./data_out/cwe_trimmed.json', 'w') as file:\n",
    "    json.dump(json_data, file, indent=2)\n",
    "\n",
    "print(f\"The following keys have been removed: {', '.join(keys_to_remove)}. The result has been saved to cwe_trimmed.json\")"
   ]
  },
  {
   "cell_type": "code",
   "execution_count": null,
   "metadata": {},
   "outputs": [],
   "source": []
  },
  {
   "cell_type": "markdown",
   "metadata": {},
   "source": [
    "# Save as JSONL"
   ]
  },
  {
   "cell_type": "code",
   "execution_count": null,
   "metadata": {},
   "outputs": [],
   "source": [
    "\n",
    "    with open(input_file, 'r') as f:\n",
    "        data = json.load(f)\n",
    "    \n",
    "    with open(output_file, 'w') as f:\n",
    "        for weakness in data.get('Weaknesses', []):\n",
    "            json.dump(weakness, f)\n",
    "            f.write('\\n')\n",
    "\n",
    "# Usage\n",
    "input_file = 'cwe_trimmed.json'\n",
    "output_file = 'cwe_trimmed.jsonl'\n",
    "json_to_jsonl(input_file, output_file)\n",
    "\n",
    "print(f\"Conversion complete. JSONL file saved as {output_file}\")"
   ]
  },
  {
   "cell_type": "code",
   "execution_count": null,
   "metadata": {},
   "outputs": [],
   "source": []
  },
  {
   "cell_type": "code",
   "execution_count": null,
   "metadata": {},
   "outputs": [],
   "source": []
  },
  {
   "cell_type": "code",
   "execution_count": 7,
   "metadata": {},
   "outputs": [
    {
     "data": {
      "text/plain": [
       "1"
      ]
     },
     "execution_count": 7,
     "metadata": {},
     "output_type": "execute_result"
    }
   ],
   "source": [
    "df['Description'].isnull().sum()"
   ]
  },
  {
   "cell_type": "code",
   "execution_count": 8,
   "metadata": {},
   "outputs": [
    {
     "data": {
      "text/html": [
       "<div>\n",
       "<style scoped>\n",
       "    .dataframe tbody tr th:only-of-type {\n",
       "        vertical-align: middle;\n",
       "    }\n",
       "\n",
       "    .dataframe tbody tr th {\n",
       "        vertical-align: top;\n",
       "    }\n",
       "\n",
       "    .dataframe thead th {\n",
       "        text-align: right;\n",
       "    }\n",
       "</style>\n",
       "<table border=\"1\" class=\"dataframe\">\n",
       "  <thead>\n",
       "    <tr style=\"text-align: right;\">\n",
       "      <th></th>\n",
       "      <th>CVE</th>\n",
       "      <th>New CWE</th>\n",
       "      <th>Reasoning</th>\n",
       "      <th>Description</th>\n",
       "    </tr>\n",
       "  </thead>\n",
       "  <tbody>\n",
       "    <tr>\n",
       "      <th>2849</th>\n",
       "      <td>CVE-2021-42248</td>\n",
       "      <td>CWE-1333</td>\n",
       "      <td>\"redos\" in desc</td>\n",
       "      <td>NaN</td>\n",
       "    </tr>\n",
       "  </tbody>\n",
       "</table>\n",
       "</div>"
      ],
      "text/plain": [
       "                 CVE   New CWE        Reasoning Description\n",
       "2849  CVE-2021-42248  CWE-1333  \"redos\" in desc         NaN"
      ]
     },
     "execution_count": 8,
     "metadata": {},
     "output_type": "execute_result"
    }
   ],
   "source": [
    "null_description_rows = df[df['Description'].isnull()]\n",
    "null_description_rows"
   ]
  },
  {
   "cell_type": "code",
   "execution_count": 9,
   "metadata": {},
   "outputs": [
    {
     "data": {
      "text/plain": [
       "0"
      ]
     },
     "execution_count": 9,
     "metadata": {},
     "output_type": "execute_result"
    }
   ],
   "source": [
    "df.loc[2849, 'Description'] = \"GJSON <= 1.9.2 allows attackers to cause a redos via crafted JSON input.\"\n",
    "df['Description'].isnull().sum()"
   ]
  },
  {
   "cell_type": "code",
   "execution_count": 11,
   "metadata": {},
   "outputs": [
    {
     "data": {
      "text/html": [
       "<div>\n",
       "<style scoped>\n",
       "    .dataframe tbody tr th:only-of-type {\n",
       "        vertical-align: middle;\n",
       "    }\n",
       "\n",
       "    .dataframe tbody tr th {\n",
       "        vertical-align: top;\n",
       "    }\n",
       "\n",
       "    .dataframe thead th {\n",
       "        text-align: right;\n",
       "    }\n",
       "</style>\n",
       "<table border=\"1\" class=\"dataframe\">\n",
       "  <thead>\n",
       "    <tr style=\"text-align: right;\">\n",
       "      <th></th>\n",
       "      <th>CVE</th>\n",
       "      <th>New CWE</th>\n",
       "      <th>Description</th>\n",
       "    </tr>\n",
       "  </thead>\n",
       "  <tbody>\n",
       "    <tr>\n",
       "      <th>0</th>\n",
       "      <td>CVE-2021-0674</td>\n",
       "      <td>CWE-20</td>\n",
       "      <td>In alac decoder, there is a possible out of bo...</td>\n",
       "    </tr>\n",
       "    <tr>\n",
       "      <th>1</th>\n",
       "      <td>CVE-2021-0674</td>\n",
       "      <td>CWE-125</td>\n",
       "      <td>In alac decoder, there is a possible out of bo...</td>\n",
       "    </tr>\n",
       "    <tr>\n",
       "      <th>2</th>\n",
       "      <td>CVE-2021-0676</td>\n",
       "      <td>CWE-20</td>\n",
       "      <td>In geniezone driver, there is a possible out o...</td>\n",
       "    </tr>\n",
       "    <tr>\n",
       "      <th>3</th>\n",
       "      <td>CVE-2021-0676</td>\n",
       "      <td>CWE-125</td>\n",
       "      <td>In geniezone driver, there is a possible out o...</td>\n",
       "    </tr>\n",
       "    <tr>\n",
       "      <th>4</th>\n",
       "      <td>CVE-2021-0677</td>\n",
       "      <td>CWE-190</td>\n",
       "      <td>In ccu driver, there is a possible out of boun...</td>\n",
       "    </tr>\n",
       "    <tr>\n",
       "      <th>...</th>\n",
       "      <td>...</td>\n",
       "      <td>...</td>\n",
       "      <td>...</td>\n",
       "    </tr>\n",
       "    <tr>\n",
       "      <th>9707</th>\n",
       "      <td>CVE-2022-29897</td>\n",
       "      <td>CWE-20</td>\n",
       "      <td>On various RAD-ISM-900-EN-* devices by PHOENIX...</td>\n",
       "    </tr>\n",
       "    <tr>\n",
       "      <th>9708</th>\n",
       "      <td>CVE-2022-29922</td>\n",
       "      <td>CWE-20</td>\n",
       "      <td>Improper Input Validation vulnerability in the...</td>\n",
       "    </tr>\n",
       "    <tr>\n",
       "      <th>9709</th>\n",
       "      <td>CVE-2022-3001</td>\n",
       "      <td>CWE-20</td>\n",
       "      <td>This vulnerability exists in Milesight Video M...</td>\n",
       "    </tr>\n",
       "    <tr>\n",
       "      <th>9710</th>\n",
       "      <td>CVE-2022-30232</td>\n",
       "      <td>CWE-20</td>\n",
       "      <td>A CWE-20: Improper Input Validation vulnerabil...</td>\n",
       "    </tr>\n",
       "    <tr>\n",
       "      <th>9711</th>\n",
       "      <td>CVE-2022-30233</td>\n",
       "      <td>CWE-20</td>\n",
       "      <td>A CWE-20: Improper Input Validation vulnerabil...</td>\n",
       "    </tr>\n",
       "  </tbody>\n",
       "</table>\n",
       "<p>9712 rows × 3 columns</p>\n",
       "</div>"
      ],
      "text/plain": [
       "                 CVE  New CWE  \\\n",
       "0      CVE-2021-0674   CWE-20   \n",
       "1      CVE-2021-0674  CWE-125   \n",
       "2      CVE-2021-0676   CWE-20   \n",
       "3      CVE-2021-0676  CWE-125   \n",
       "4      CVE-2021-0677  CWE-190   \n",
       "...              ...      ...   \n",
       "9707  CVE-2022-29897   CWE-20   \n",
       "9708  CVE-2022-29922   CWE-20   \n",
       "9709   CVE-2022-3001   CWE-20   \n",
       "9710  CVE-2022-30232   CWE-20   \n",
       "9711  CVE-2022-30233   CWE-20   \n",
       "\n",
       "                                            Description  \n",
       "0     In alac decoder, there is a possible out of bo...  \n",
       "1     In alac decoder, there is a possible out of bo...  \n",
       "2     In geniezone driver, there is a possible out o...  \n",
       "3     In geniezone driver, there is a possible out o...  \n",
       "4     In ccu driver, there is a possible out of boun...  \n",
       "...                                                 ...  \n",
       "9707  On various RAD-ISM-900-EN-* devices by PHOENIX...  \n",
       "9708  Improper Input Validation vulnerability in the...  \n",
       "9709  This vulnerability exists in Milesight Video M...  \n",
       "9710  A CWE-20: Improper Input Validation vulnerabil...  \n",
       "9711  A CWE-20: Improper Input Validation vulnerabil...  \n",
       "\n",
       "[9712 rows x 3 columns]"
      ]
     },
     "execution_count": 11,
     "metadata": {},
     "output_type": "execute_result"
    }
   ],
   "source": [
    "df.drop('Reasoning', axis=1, inplace=True)\n",
    "df"
   ]
  },
  {
   "cell_type": "code",
   "execution_count": 14,
   "metadata": {},
   "outputs": [],
   "source": [
    "# replace any sequence of whitespace characters (including newlines, tabs, and multiple spaces) with a single space.\n",
    "df['Description'] = df['Description'].str.replace('\\s+', ' ', regex=True)\n"
   ]
  },
  {
   "cell_type": "code",
   "execution_count": 15,
   "metadata": {},
   "outputs": [],
   "source": [
    "df.to_csv(\"./data_out/top25-mitre-mapping-analysis-2023-public_with_cve_descriptions.csv\", index=False, quoting=csv.QUOTE_ALL, escapechar='\\\\')"
   ]
  }
 ],
 "metadata": {
  "kernelspec": {
   "display_name": "Python 3",
   "language": "python",
   "name": "python3"
  },
  "language_info": {
   "codemirror_mode": {
    "name": "ipython",
    "version": 3
   },
   "file_extension": ".py",
   "mimetype": "text/x-python",
   "name": "python",
   "nbconvert_exporter": "python",
   "pygments_lexer": "ipython3",
   "version": "3.10.12"
  },
  "orig_nbformat": 4
 },
 "nbformat": 4,
 "nbformat_minor": 2
}
